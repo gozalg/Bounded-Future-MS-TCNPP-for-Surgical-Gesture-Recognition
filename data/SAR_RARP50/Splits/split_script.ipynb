{
 "cells": [
  {
   "cell_type": "code",
   "execution_count": 1,
   "metadata": {},
   "outputs": [],
   "source": [
    "import os"
   ]
  },
  {
   "cell_type": "code",
   "execution_count": 2,
   "metadata": {},
   "outputs": [],
   "source": [
    "# Function to check if a video directory exists\n",
    "def video_exists(video_name):\n",
    "    return os.path.exists(video_name)"
   ]
  },
  {
   "cell_type": "code",
   "execution_count": 10,
   "metadata": {},
   "outputs": [],
   "source": [
    "# Python script to generate data_01.csv with existing video directories\n",
    "def write_to_data_csv(i, low, high):\n",
    "    sum_frames = 0\n",
    "    with open(f'data_{i}.csv', 'w') as f:\n",
    "        for i in range(low, high):\n",
    "            frame_count = 0\n",
    "            frame_count_1 = 0\n",
    "            frame_count_2 = 0\n",
    "            video_name = f\"video_{i:02}\"\n",
    "            if video_exists(os.path.join('/data/home/gabrielg/Bounded_Future_from_GIT/data/SAR_RARP50/frames/train', video_name)):\n",
    "                frame_count = len(os.listdir(os.path.join('/data/home/gabrielg/Bounded_Future_from_GIT/data/SAR_RARP50/frames/train', video_name)))\n",
    "                f.write(f\"{video_name},{frame_count}\\n\")\n",
    "                print(f\"{video_name},{frame_count}\")\n",
    "            else:\n",
    "                frame_count_1 = len(os.listdir(os.path.join('/data/home/gabrielg/Bounded_Future_from_GIT/data/SAR_RARP50/frames/train', f\"{video_name}_1\")))\n",
    "                f.write(f\"{video_name}_1,{frame_count_1}\\n\")\n",
    "                print(f\"{video_name}_1,{frame_count_1}\")\n",
    "                \n",
    "                frame_count_2 = len(os.listdir(os.path.join('/data/home/gabrielg/Bounded_Future_from_GIT/data/SAR_RARP50/frames/train', f\"{video_name}_2\")))\n",
    "                f.write(f\"{video_name}_2,{frame_count_2}\\n\")\n",
    "                print(f\"{video_name}_2,{frame_count_2}\")\n",
    "            sum_frames += frame_count + frame_count_1 + frame_count_2\n",
    "    return sum_frames"
   ]
  },
  {
   "cell_type": "code",
   "execution_count": 11,
   "metadata": {},
   "outputs": [
    {
     "name": "stdout",
     "output_type": "stream",
     "text": [
      "video_01,5624\n",
      "video_02,3293\n",
      "video_03,5218\n",
      "video_04,1302\n",
      "video_05,2713\n",
      "video_06,7060\n",
      "video_07,2716\n",
      "video_08,1480\n",
      "video_09,2636\n",
      "video_10,1274\n",
      "video_11_1,2369\n",
      "video_11_2,1349\n",
      "video_12,1312\n",
      "video_13,2721\n",
      "video_14,2818\n",
      "video_15_1,1799\n",
      "video_15_2,1313\n",
      "video_16,3844\n",
      "video_17_1,2804\n",
      "video_17_2,1314\n",
      "video_18,5448\n",
      "video_19,2668\n",
      "video_20,2894\n",
      "video_21,4544\n",
      "video_22,3824\n",
      "video_23,2563\n",
      "video_24,2494\n",
      "video_25,1532\n",
      "video_26,1637\n",
      "video_27,1879\n",
      "video_28,1814\n",
      "video_29_1,2579\n",
      "video_29_2,2321\n",
      "video_30,5739\n",
      "video_31,5649\n",
      "video_32,4899\n",
      "video_33,1573\n",
      "video_34,1008\n",
      "video_35,5034\n",
      "video_36,3383\n",
      "video_37,3598\n",
      "video_38,3057\n",
      "video_39,2381\n",
      "video_40,2755\n",
      "Total frames in data_01.csv: 32042\n",
      "Total frames in data_02.csv: 18799\n",
      "Total frames in data_03.csv: 28553\n",
      "Total frames in data_04.csv: 28049\n",
      "Total frames in data_05.csv: 22789\n",
      "Split 0 Train: 98190\n",
      "Split 0 Test : 32042\n",
      "Split 1 Train: 111433\n",
      "Split 1 Test : 18799\n",
      "Split 2 Train: 101679\n",
      "Split 2 Test : 28553\n",
      "Split 3 Train: 102183\n",
      "Split 3 Test : 28049\n",
      "Split 4 Train: 107443\n",
      "Split 4 Test : 22789\n"
     ]
    }
   ],
   "source": [
    "sum_frames_data1 = write_to_data_csv(1, 1 , 10)\n",
    "sum_frames_data2 = write_to_data_csv(2, 10, 17)\n",
    "sum_frames_data3 = write_to_data_csv(3, 17, 25)\n",
    "sum_frames_data4 = write_to_data_csv(4, 25, 33)\n",
    "sum_frames_data5 = write_to_data_csv(5, 33, 41)"
   ]
  },
  {
   "cell_type": "code",
   "execution_count": 29,
   "metadata": {},
   "outputs": [
    {
     "name": "stdout",
     "output_type": "stream",
     "text": [
      "Total frames in data_01.csv: 32042\n",
      "Total frames in data_02.csv: 18799\n",
      "Total frames in data_03.csv: 28553\n",
      "Total frames in data_04.csv: 28049\n",
      "Total frames in data_05.csv: 22789\n",
      "Total frames in all Dataset: 130232\n",
      "======================\n",
      "Split 0 Train: 98190\t75.4%\n",
      "Split 0 Test : 32042\t24.6%\n",
      "======================\n",
      "Split 1 Train: 111433\t85.56%\n",
      "Split 1 Test : 18799\t14.44%\n",
      "======================\n",
      "Split 2 Train: 101679\t78.08%\n",
      "Split 2 Test : 28553\t21.92%\n",
      "======================\n",
      "Split 3 Train: 102183\t78.46%\n",
      "Split 3 Test : 28049\t21.54%\n",
      "======================\n",
      "Split 4 Train: 107443\t82.5%\n",
      "Split 4 Test : 22789\t17.5%\n",
      "======================\n"
     ]
    }
   ],
   "source": [
    "total_frames = sum_frames_data1 + sum_frames_data2 + sum_frames_data3 + sum_frames_data4 + sum_frames_data5\n",
    "print(f\"Total frames in data_01.csv: {sum_frames_data1}\")\n",
    "print(f\"Total frames in data_02.csv: {sum_frames_data2}\")\n",
    "print(f\"Total frames in data_03.csv: {sum_frames_data3}\")\n",
    "print(f\"Total frames in data_04.csv: {sum_frames_data4}\")\n",
    "print(f\"Total frames in data_05.csv: {sum_frames_data5}\")\n",
    "print(f\"Total frames in all Dataset: {total_frames}\")\n",
    "print(\"======================\")\n",
    "print(f\"Split 0 Train: {sum_frames_data2 + sum_frames_data3 + sum_frames_data4 + sum_frames_data5}\\t{round((sum_frames_data2 + sum_frames_data3 + sum_frames_data4 + sum_frames_data5) / total_frames * 100,2)}%\")\n",
    "print(f\"Split 0 Test : {sum_frames_data1}\\t{round(sum_frames_data1 / total_frames * 100,2)}%\")\n",
    "print(\"======================\")\n",
    "print(f\"Split 1 Train: {sum_frames_data1 + sum_frames_data3 + sum_frames_data4 + sum_frames_data5}\\t{round((sum_frames_data1 + sum_frames_data3 + sum_frames_data4 + sum_frames_data5) / total_frames * 100,2)}%\")\n",
    "print(f\"Split 1 Test : {sum_frames_data2}\\t{round(sum_frames_data2 / total_frames * 100,2)}%\")\n",
    "print(\"======================\")\n",
    "print(f\"Split 2 Train: {sum_frames_data1 + sum_frames_data2 + sum_frames_data4 + sum_frames_data5}\\t{round((sum_frames_data1 + sum_frames_data2 + sum_frames_data4 + sum_frames_data5) / total_frames * 100,2)}%\")\n",
    "print(f\"Split 2 Test : {sum_frames_data3}\\t{round(sum_frames_data3 / total_frames * 100,2)}%\")\n",
    "print(\"======================\")\n",
    "print(f\"Split 3 Train: {sum_frames_data1 + sum_frames_data2 + sum_frames_data3 + sum_frames_data5}\\t{round((sum_frames_data1 + sum_frames_data2 + sum_frames_data3 + sum_frames_data5) / total_frames * 100,2)}%\")\n",
    "print(f\"Split 3 Test : {sum_frames_data4}\\t{round(sum_frames_data4 / total_frames * 100,2)}%\")\n",
    "print(\"======================\")\n",
    "print(f\"Split 4 Train: {sum_frames_data1 + sum_frames_data2 + sum_frames_data3 + sum_frames_data4}\\t{round((sum_frames_data1 + sum_frames_data2 + sum_frames_data3 + sum_frames_data4) / total_frames * 100,2)}%\")\n",
    "print(f\"Split 4 Test : {sum_frames_data5}\\t{round(sum_frames_data5 / total_frames * 100,2)}%\")\n",
    "print(\"======================\")"
   ]
  },
  {
   "cell_type": "code",
   "execution_count": 7,
   "metadata": {},
   "outputs": [
    {
     "data": {
      "text/plain": [
       "0"
      ]
     },
     "execution_count": 7,
     "metadata": {},
     "output_type": "execute_result"
    }
   ],
   "source": [
    "# chmod u+x for data_*.csv files\n",
    "os.system('chmod u+x data_*.csv')"
   ]
  },
  {
   "cell_type": "code",
   "execution_count": 4,
   "metadata": {},
   "outputs": [],
   "source": [
    "def write_to_data_test_csv(i, low, high):\n",
    "    sum_frames = 0\n",
    "    with open(f'data_{i}.csv', 'w') as f:\n",
    "        for i in range(low, high):\n",
    "            frame_count = 0\n",
    "            frame_count_1 = 0\n",
    "            frame_count_2 = 0\n",
    "            video_name = f\"video_{i:02}\"\n",
    "            if video_exists(os.path.join('/data/home/gabrielg/Bounded_Future_from_GIT/data/SAR_RARP50/frames/test', video_name)):\n",
    "                frame_count = len(os.listdir(os.path.join('/data/home/gabrielg/Bounded_Future_from_GIT/data/SAR_RARP50/frames/test', video_name)))\n",
    "                f.write(f\"{video_name},{frame_count}\\n\")\n",
    "                print(f\"{video_name},{frame_count}\")\n",
    "            else:\n",
    "                frame_count_1 = len(os.listdir(os.path.join('/data/home/gabrielg/Bounded_Future_from_GIT/data/SAR_RARP50/frames/test', f\"{video_name}_1\")))\n",
    "                f.write(f\"{video_name}_1,{frame_count_1}\\n\")\n",
    "                print(f\"{video_name}_1,{frame_count_1}\")\n",
    "                \n",
    "                frame_count_2 = len(os.listdir(os.path.join('/data/home/gabrielg/Bounded_Future_from_GIT/data/SAR_RARP50/frames/test', f\"{video_name}_2\")))\n",
    "                f.write(f\"{video_name}_2,{frame_count_2}\\n\")\n",
    "                print(f\"{video_name}_2,{frame_count_2}\")\n",
    "            sum_frames += frame_count + frame_count_1 + frame_count_2\n",
    "    return sum_frames"
   ]
  },
  {
   "cell_type": "code",
   "execution_count": 5,
   "metadata": {},
   "outputs": [
    {
     "name": "stdout",
     "output_type": "stream",
     "text": [
      "video_41,2380\n",
      "video_42,3575\n",
      "video_43,1976\n",
      "video_44,1429\n",
      "video_45,1162\n",
      "video_46,6322\n",
      "video_47,3333\n",
      "video_48,3002\n",
      "video_49,6864\n",
      "video_50,2430\n"
     ]
    }
   ],
   "source": [
    "sum_frames_test = write_to_data_test_csv('test', 41 , 51)"
   ]
  },
  {
   "cell_type": "code",
   "execution_count": 6,
   "metadata": {},
   "outputs": [
    {
     "name": "stdout",
     "output_type": "stream",
     "text": [
      "======================\n",
      "Total frames in data_test.csv: 32473\n",
      "======================\n"
     ]
    }
   ],
   "source": [
    "print(\"======================\")\n",
    "print(f\"Total frames in data_test.csv: {sum_frames_test}\")\n",
    "print(\"======================\")"
   ]
  }
 ],
 "metadata": {
  "kernelspec": {
   "display_name": "BoundedFuture",
   "language": "python",
   "name": "python3"
  },
  "language_info": {
   "codemirror_mode": {
    "name": "ipython",
    "version": 3
   },
   "file_extension": ".py",
   "mimetype": "text/x-python",
   "name": "python",
   "nbconvert_exporter": "python",
   "pygments_lexer": "ipython3",
   "version": "3.9.-1"
  }
 },
 "nbformat": 4,
 "nbformat_minor": 2
}
