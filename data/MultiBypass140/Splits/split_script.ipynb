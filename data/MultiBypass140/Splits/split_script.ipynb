{
 "cells": [
  {
   "cell_type": "code",
   "execution_count": 11,
   "metadata": {},
   "outputs": [],
   "source": [
    "import os"
   ]
  },
  {
   "cell_type": "code",
   "execution_count": 12,
   "metadata": {},
   "outputs": [],
   "source": [
    "# Function to check if a video directory exists\n",
    "def video_exists(path, video_name):\n",
    "    return os.path.exists(os.path.join(path, 'frames', video_name))"
   ]
  },
  {
   "cell_type": "code",
   "execution_count": 35,
   "metadata": {},
   "outputs": [],
   "source": [
    "# Python script to read from Splits directory all the *.csv files and calulate the total number of frames per train-val-test train_val_test\n",
    "def main(train_val_test, split_num):\n",
    "    # Get the current working directory\n",
    "    cwd = '/data/home/gabrielg/Bounded_Future_from_GIT/data/MultiBypass140'\n",
    "    # Get the path to the Splits directory\n",
    "    splits_dir = os.path.join(cwd, \"Splits\")\n",
    "    # Get the list of all the files in the Splits directory\n",
    "    files = os.listdir(splits_dir)\n",
    "    # Initialize the total number of frames\n",
    "    total_frames = 0\n",
    "    # Loop through all the files in the Splits directory\n",
    "    for file in files:\n",
    "        # Check if the file is a csv file\n",
    "        if f'{train_val_test}_{split_num}' in file and file.endswith(\".csv\"):\n",
    "            # Get the path to the csv file\n",
    "            file_path = os.path.join(splits_dir, file)\n",
    "            # Open the csv file\n",
    "            with open(file_path, \"r\") as f:\n",
    "                # Read all the lines in the csv file\n",
    "                lines = f.readlines()\n",
    "            # Loop through all the lines in the csv file\n",
    "            for line in lines:\n",
    "                # Split the line by comma\n",
    "                split_line = line.split(\",\")\n",
    "                # Get the video name\n",
    "                video_name = split_line[0]\n",
    "                # Check if the video exists\n",
    "                if video_exists(cwd, video_name):\n",
    "                    # Get the number of frames\n",
    "                    num_frames = int(split_line[1])\n",
    "                    # Add the number of frames to the total number of frames\n",
    "                    total_frames += num_frames\n",
    "                else:\n",
    "                    print(f\"Video {video_name} does not exist\")\n",
    "    # Print the total number of frames\n",
    "    print(f\"Total number of {split_num} - {train_val_test}:\\t\\t{total_frames}\")\n",
    "    return total_frames"
   ]
  },
  {
   "cell_type": "code",
   "execution_count": 41,
   "metadata": {},
   "outputs": [
    {
     "name": "stdout",
     "output_type": "stream",
     "text": [
      "-------------------- Split 0 -------------------\n",
      "Total number of 0 - train:\t\t422434\n",
      "Total number of 0 - val:\t\t119390\n",
      "Total number of 0 - test:\t\t231692\n",
      "------------------------------------------------\n",
      "-------------------- Split 1 -------------------\n",
      "Total number of 1 - train:\t\t429491\n",
      "Total number of 1 - val:\t\t116997\n",
      "Total number of 1 - test:\t\t227028\n",
      "------------------------------------------------\n",
      "-------------------- Split 2 -------------------\n",
      "Total number of 2 - train:\t\t434594\n",
      "Total number of 2 - val:\t\t115280\n",
      "Total number of 2 - test:\t\t223642\n",
      "------------------------------------------------\n",
      "-------------------- Split 3 -------------------\n",
      "Total number of 3 - train:\t\t439842\n",
      "Total number of 3 - val:\t\t113933\n",
      "Total number of 3 - test:\t\t219741\n",
      "------------------------------------------------\n",
      "-------------------- Split 4 -------------------\n",
      "Total number of 4 - train:\t\t446897\n",
      "Total number of 4 - val:\t\t111146\n",
      "Total number of 4 - test:\t\t215473\n",
      "------------------------------------------------\n",
      "Total number of frames in val: 115349.2\n"
     ]
    }
   ],
   "source": [
    "total_val = 0 \n",
    "for i in range(0,5):\n",
    "    print(f'-------------------- Split {i} -------------------')\n",
    "    sum_frames_train    = main(\"train\", i)\n",
    "    sum_frames_val      = main(\"val\", i)\n",
    "    sum_frames_test     = main(\"test\", i)\n",
    "    # print percentage of frames\n",
    "    total_val += sum_frames_val\n",
    "    total_frames = sum_frames_train + sum_frames_val + sum_frames_test\n",
    "    # print(f'')\n",
    "    print(f'------------------------------------------------')\n",
    "print(f'Average number of frames in val: {total_val/5}')"
   ]
  },
  {
   "cell_type": "code",
   "execution_count": 30,
   "metadata": {},
   "outputs": [
    {
     "ename": "NameError",
     "evalue": "name 'sum_frames_data1' is not defined",
     "output_type": "error",
     "traceback": [
      "\u001b[0;31m---------------------------------------------------------------------------\u001b[0m",
      "\u001b[0;31mNameError\u001b[0m                                 Traceback (most recent call last)",
      "Cell \u001b[0;32mIn[30], line 1\u001b[0m\n\u001b[0;32m----> 1\u001b[0m total_frames \u001b[38;5;241m=\u001b[39m \u001b[43msum_frames_data1\u001b[49m \u001b[38;5;241m+\u001b[39m sum_frames_data2 \u001b[38;5;241m+\u001b[39m sum_frames_data3 \u001b[38;5;241m+\u001b[39m sum_frames_data4 \u001b[38;5;241m+\u001b[39m sum_frames_data5\n\u001b[1;32m      2\u001b[0m \u001b[38;5;28mprint\u001b[39m(\u001b[38;5;124mf\u001b[39m\u001b[38;5;124m\"\u001b[39m\u001b[38;5;124mTotal frames in data_01.csv: \u001b[39m\u001b[38;5;132;01m{\u001b[39;00msum_frames_data1\u001b[38;5;132;01m}\u001b[39;00m\u001b[38;5;124m\"\u001b[39m)\n\u001b[1;32m      3\u001b[0m \u001b[38;5;28mprint\u001b[39m(\u001b[38;5;124mf\u001b[39m\u001b[38;5;124m\"\u001b[39m\u001b[38;5;124mTotal frames in data_02.csv: \u001b[39m\u001b[38;5;132;01m{\u001b[39;00msum_frames_data2\u001b[38;5;132;01m}\u001b[39;00m\u001b[38;5;124m\"\u001b[39m)\n",
      "\u001b[0;31mNameError\u001b[0m: name 'sum_frames_data1' is not defined"
     ]
    }
   ],
   "source": [
    "# total_frames = sum_frames_data1 + sum_frames_data2 + sum_frames_data3 + sum_frames_data4 + sum_frames_data5\n",
    "# print(f\"Total frames in data_01.csv: {sum_frames_data1}\")\n",
    "# print(f\"Total frames in data_02.csv: {sum_frames_data2}\")\n",
    "# print(f\"Total frames in data_03.csv: {sum_frames_data3}\")\n",
    "# print(f\"Total frames in data_04.csv: {sum_frames_data4}\")\n",
    "# print(f\"Total frames in data_05.csv: {sum_frames_data5}\")\n",
    "# print(f\"Total frames in all Dataset: {total_frames}\")\n",
    "# print(\"======================\")\n",
    "# print(f\"Split 0 Train: {sum_frames_data2 + sum_frames_data3 + sum_frames_data4 + sum_frames_data5}\\t{round((sum_frames_data2 + sum_frames_data3 + sum_frames_data4 + sum_frames_data5) / total_frames * 100,2)}%\")\n",
    "# print(f\"Split 0 Test : {sum_frames_data1}\\t{round(sum_frames_data1 / total_frames * 100,2)}%\")\n",
    "# print(\"======================\")\n",
    "# print(f\"Split 1 Train: {sum_frames_data1 + sum_frames_data3 + sum_frames_data4 + sum_frames_data5}\\t{round((sum_frames_data1 + sum_frames_data3 + sum_frames_data4 + sum_frames_data5) / total_frames * 100,2)}%\")\n",
    "# print(f\"Split 1 Test : {sum_frames_data2}\\t{round(sum_frames_data2 / total_frames * 100,2)}%\")\n",
    "# print(\"======================\")\n",
    "# print(f\"Split 2 Train: {sum_frames_data1 + sum_frames_data2 + sum_frames_data4 + sum_frames_data5}\\t{round((sum_frames_data1 + sum_frames_data2 + sum_frames_data4 + sum_frames_data5) / total_frames * 100,2)}%\")\n",
    "# print(f\"Split 2 Test : {sum_frames_data3}\\t{round(sum_frames_data3 / total_frames * 100,2)}%\")\n",
    "# print(\"======================\")\n",
    "# print(f\"Split 3 Train: {sum_frames_data1 + sum_frames_data2 + sum_frames_data3 + sum_frames_data5}\\t{round((sum_frames_data1 + sum_frames_data2 + sum_frames_data3 + sum_frames_data5) / total_frames * 100,2)}%\")\n",
    "# print(f\"Split 3 Test : {sum_frames_data4}\\t{round(sum_frames_data4 / total_frames * 100,2)}%\")\n",
    "# print(\"======================\")\n",
    "# print(f\"Split 4 Train: {sum_frames_data1 + sum_frames_data2 + sum_frames_data3 + sum_frames_data4}\\t{round((sum_frames_data1 + sum_frames_data2 + sum_frames_data3 + sum_frames_data4) / total_frames * 100,2)}%\")\n",
    "# print(f\"Split 4 Test : {sum_frames_data5}\\t{round(sum_frames_data5 / total_frames * 100,2)}%\")\n",
    "# print(\"======================\")"
   ]
  },
  {
   "cell_type": "code",
   "execution_count": 7,
   "metadata": {},
   "outputs": [
    {
     "data": {
      "text/plain": [
       "0"
      ]
     },
     "execution_count": 7,
     "metadata": {},
     "output_type": "execute_result"
    }
   ],
   "source": [
    "# chmod u+x for data_*.csv files\n",
    "os.system('chmod u+x data_*.csv')"
   ]
  },
  {
   "cell_type": "code",
   "execution_count": 4,
   "metadata": {},
   "outputs": [],
   "source": [
    "# def write_to_data_test_csv(i, low, high):\n",
    "#     sum_frames = 0\n",
    "#     with open(f'data_{i}.csv', 'w') as f:\n",
    "#         for i in range(low, high):\n",
    "#             frame_count = 0\n",
    "#             frame_count_1 = 0\n",
    "#             frame_count_2 = 0\n",
    "#             video_name = f\"video_{i:02}\"\n",
    "#             if video_exists(os.path.join('/data/home/gabrielg/Bounded_Future_from_GIT/data/MultiBypass140/frames/test', video_name)):\n",
    "#                 frame_count = len(os.listdir(os.path.join('/data/home/gabrielg/Bounded_Future_from_GIT/data/MultiBypass140/frames/test', video_name)))\n",
    "#                 f.write(f\"{video_name},{frame_count}\\n\")\n",
    "#                 print(f\"{video_name},{frame_count}\")\n",
    "#             else:\n",
    "#                 frame_count_1 = len(os.listdir(os.path.join('/data/home/gabrielg/Bounded_Future_from_GIT/data/MultiBypass140/frames/test', f\"{video_name}_1\")))\n",
    "#                 f.write(f\"{video_name}_1,{frame_count_1}\\n\")\n",
    "#                 print(f\"{video_name}_1,{frame_count_1}\")\n",
    "                \n",
    "#                 frame_count_2 = len(os.listdir(os.path.join('/data/home/gabrielg/Bounded_Future_from_GIT/data/MultiBypass140/frames/test', f\"{video_name}_2\")))\n",
    "#                 f.write(f\"{video_name}_2,{frame_count_2}\\n\")\n",
    "#                 print(f\"{video_name}_2,{frame_count_2}\")\n",
    "#             sum_frames += frame_count + frame_count_1 + frame_count_2\n",
    "#     return sum_frames"
   ]
  },
  {
   "cell_type": "code",
   "execution_count": 5,
   "metadata": {},
   "outputs": [
    {
     "name": "stdout",
     "output_type": "stream",
     "text": [
      "video_41,2380\n",
      "video_42,3575\n",
      "video_43,1976\n",
      "video_44,1429\n",
      "video_45,1162\n",
      "video_46,6322\n",
      "video_47,3333\n",
      "video_48,3002\n",
      "video_49,6864\n",
      "video_50,2430\n"
     ]
    }
   ],
   "source": [
    "# sum_frames_test = write_to_data_test_csv('test', 41 , 51)"
   ]
  },
  {
   "cell_type": "code",
   "execution_count": 6,
   "metadata": {},
   "outputs": [
    {
     "name": "stdout",
     "output_type": "stream",
     "text": [
      "======================\n",
      "Total frames in data_test.csv: 32473\n",
      "======================\n"
     ]
    }
   ],
   "source": [
    "# print(\"======================\")\n",
    "# print(f\"Total frames in data_test.csv: {sum_frames_test}\")\n",
    "# print(\"======================\")"
   ]
  }
 ],
 "metadata": {
  "kernelspec": {
   "display_name": "BoundedFuture",
   "language": "python",
   "name": "python3"
  },
  "language_info": {
   "codemirror_mode": {
    "name": "ipython",
    "version": 3
   },
   "file_extension": ".py",
   "mimetype": "text/x-python",
   "name": "python",
   "nbconvert_exporter": "python",
   "pygments_lexer": "ipython3",
   "version": "3.9.19"
  }
 },
 "nbformat": 4,
 "nbformat_minor": 2
}
