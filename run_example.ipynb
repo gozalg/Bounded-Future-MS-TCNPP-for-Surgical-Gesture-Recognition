{
 "cells": [
  {
   "cell_type": "markdown",
   "metadata": {},
   "source": [
    "# Run Example"
   ]
  },
  {
   "cell_type": "code",
   "execution_count": null,
   "metadata": {},
   "outputs": [],
   "source": [
    "# conda activate BoundedFuture\n",
    "# python -m pip install --target=/data/home/gabrielg/anaconda3/envs/BoundedFuture/lib/python3.9/site-packages <Replace with PACKAGE_NAME>"
   ]
  },
  {
   "cell_type": "code",
   "execution_count": 2,
   "metadata": {
    "ExecuteTime": {
     "end_time": "2024-04-03T16:52:03.175744Z",
     "start_time": "2024-04-03T16:52:01.179233Z"
    }
   },
   "outputs": [],
   "source": [
    "from utils.efficientnetV2 import EfficientnetV2\n",
    "from utils.transforms import GroupNormalize, GroupScale, GroupCenterCrop\n",
    "from utils.model import MST_TCN2\n",
    "import torch\n",
    "from torchvision import transforms\n",
    "from FrameGenrator import FrameGenerator\n",
    "from project import run"
   ]
  },
  {
   "cell_type": "code",
   "execution_count": 3,
   "metadata": {
    "ExecuteTime": {
     "end_time": "2024-04-03T16:52:08.496758Z",
     "start_time": "2024-04-03T16:52:03.178614Z"
    }
   },
   "outputs": [
    {
     "name": "stderr",
     "output_type": "stream",
     "text": [
      "/data/home/gabrielg/anaconda3/envs/BoundedFuture/lib/python3.9/site-packages/torchvision/transforms/transforms.py:287: UserWarning: Argument interpolation should be of type InterpolationMode instead of int. Please, use InterpolationMode enum.\n",
      "  warnings.warn(\n"
     ]
    }
   ],
   "source": [
    "device = torch.device(\"cuda\" if torch.cuda.is_available() else \"cpu\")\n",
    "\n",
    "# load model\n",
    "num_classes_list = [6]\n",
    "model = MST_TCN2(10, 10, 3, 128, 1280, num_classes_list,\n",
    "                 dropout=0.5, w_max=3, offline_mode=False)\n",
    "model.load_state_dict(torch.load(\n",
    "    \"examples/3_seconds_delay/MS-TCN2_gestures.model\"))\n",
    "model.eval()\n",
    "model = model.to(device)\n",
    "\n",
    "# load extractor\n",
    "path = \"examples/extractor.pth\"\n",
    "extractor = EfficientnetV2(\n",
    "    size=\"m\", num_classes=6, pretrained=False)  # load extractor\n",
    "extractor.load_state_dict(torch.load(path))\n",
    "extractor = extractor.eval()\n",
    "\n",
    "# define the normaliztion and the augmentations\n",
    "mean, std = extractor.input_mean, extractor.input_std\n",
    "frame_gen = FrameGenerator(\"examples/frames\")\n",
    "normalize = GroupNormalize(mean, std)\n",
    "val_augmentation = transforms.Compose([GroupScale(int(256)),\n",
    "                                       GroupCenterCrop(224)])\n",
    "shape = (224, 224)\n",
    "# runner is a generator\n",
    "runner = run(frame_gen, model, extractor, normalize,\n",
    "             val_augmentation, use_extractions=True, shape=shape)"
   ]
  },
  {
   "cell_type": "code",
   "execution_count": 4,
   "metadata": {
    "ExecuteTime": {
     "end_time": "2024-04-03T16:57:20.985051Z",
     "start_time": "2024-04-03T16:52:08.505593Z"
    }
   },
   "outputs": [
    {
     "name": "stdout",
     "output_type": "stream",
     "text": [
      "\u001b[34mstart examples of feature extraction\u001b[0m\n",
      "\u001b[34mend examples of feature extraction\u001b[0m\n",
      "\u001b[33minitialize Model recreate - ready to start streaming\u001b[0m\n",
      "\u001b[33mfinished initializing Model recreate, 111 frames took 4.1695334911346436 seconds (26.621683273682947 fps)\u001b[0m\n"
     ]
    },
    {
     "name": "stderr",
     "output_type": "stream",
     "text": [
      "Total number of 3910 frames. Calculated at avg of 19.56 frames/s \n"
     ]
    }
   ],
   "source": [
    "outs = []\n",
    "for i, output in enumerate(runner):\n",
    "    outs.append(output)\n",
    "    # `output` is the output of the model at time `i`\n",
    "\n",
    "# convert to tensor, this is the exact output of the model\n",
    "outputs = []\n",
    "for i in range(len(num_classes_list)):\n",
    "    predictions = torch.vstack([o[i] for o in outs])\n",
    "    outputs.append(predictions)\n",
    "    # outputs will be the exact output of the model"
   ]
  }
 ],
 "metadata": {
  "kernelspec": {
   "display_name": "Python 3",
   "language": "python",
   "name": "python3"
  },
  "language_info": {
   "codemirror_mode": {
    "name": "ipython",
    "version": 3
   },
   "file_extension": ".py",
   "mimetype": "text/x-python",
   "name": "python",
   "nbconvert_exporter": "python",
   "pygments_lexer": "ipython3",
   "version": "3.9.19"
  }
 },
 "nbformat": 4,
 "nbformat_minor": 4
}
