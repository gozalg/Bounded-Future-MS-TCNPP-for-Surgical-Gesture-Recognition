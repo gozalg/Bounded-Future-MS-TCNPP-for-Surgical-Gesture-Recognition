{
 "cells": [
  {
   "cell_type": "code",
   "execution_count": 2,
   "metadata": {},
   "outputs": [],
   "source": [
    "# for each dataset dir, open 'test_results.csv', and for each column calculate the mean and std of the values (except the first column)\n",
    "# then print the results in a table\n",
    "import pickle as pkl\n",
    "import os"
   ]
  },
  {
   "cell_type": "code",
   "execution_count": 3,
   "metadata": {},
   "outputs": [],
   "source": [
    "labels_path = '/data/home/gabrielg/Bounded_Future_from_GIT/data/MultiBypass140/transcriptions'\n",
    "splits_path = '/data/home/gabrielg/Bounded_Future_from_GIT/data/MultiBypass140/Splits'\n",
    "bern_path = os.path.join(labels_path, 'BernBypass70')\n",
    "stras_path = os.path.join(labels_path, 'StrasBypass70')"
   ]
  },
  {
   "cell_type": "code",
   "execution_count": 4,
   "metadata": {},
   "outputs": [],
   "source": [
    "splits_to_write = {'val':   {'0':[], '1':[], '2':[], '3':[], '4':[]}, \n",
    "                   'train': {'0':[], '1':[], '2':[], '3':[], '4':[]}, \n",
    "                   'test':  {'0':[], '1':[], '2':[], '3':[], '4':[]}}\n",
    "for main_dir in [bern_path, stras_path]:\n",
    "    # print(main_dir)\n",
    "    for dir in os.listdir(main_dir):\n",
    "        # print(dir)\n",
    "        for file in os.listdir(os.path.join(main_dir, dir)):\n",
    "            # get current split\n",
    "            cur_split = file.split('.')[0].split('_')[-1]\n",
    "            # write labels to transcriptions files\n",
    "            with open(os.path.join(main_dir, dir, file), 'rb') as f:\n",
    "                labels = pkl.load(f)\n",
    "            for vid in labels.keys():\n",
    "                with open(os.path.join(labels_path, vid + '.txt'), 'w') as f:\n",
    "                    cur_step = 99 # doesn't exists in the dataset\n",
    "                    for frame in labels[vid]:\n",
    "                        end_frame = frame['Original_frame_id']\n",
    "                        # if it's a new phase\n",
    "                        if (cur_step != frame['Step_gt']):\n",
    "                            # 1st time\n",
    "                            if(cur_step != 99):\n",
    "                                f.write(str(start_frame) + ' ' + str(end_frame) + ' S' + str(cur_step) + '\\n')\n",
    "                            cur_step = frame['Step_gt']\n",
    "                            start_frame = frame['Original_frame_id']+1\n",
    "                        # if it's the last frame\n",
    "                        if end_frame == labels[vid][-1]['Original_frame_id']:\n",
    "                            f.write(str(start_frame) + ' ' + str(end_frame+1) + ' S' + str(cur_step) + '\\n')\n",
    "                            break\n",
    "                if dir in ['val', 'train', 'test']:\n",
    "                    splits_to_write[dir][cur_split].append((vid, end_frame+1))\n",
    "                else:\n",
    "                    continue"
   ]
  },
  {
   "cell_type": "code",
   "execution_count": 7,
   "metadata": {},
   "outputs": [],
   "source": [
    "# Assuming splits_to_write is structured as {dir: {split: [(vid, end_frame+1), ...]}}\n",
    "for dir in ['val', 'train', 'test']:\n",
    "    for cur_split in splits_to_write[dir]:\n",
    "        # Sort the list of tuples for the current split\n",
    "        sorted_data = sorted(splits_to_write[dir][cur_split], key=lambda x: x[0])  # Sorting by vid here\n",
    "\n",
    "        # Determine the file name\n",
    "        file_name = f'data_{dir}_{cur_split}.csv'\n",
    "        \n",
    "        # Write the sorted data to the file\n",
    "        with open(os.path.join(splits_path, file_name), 'w') as f:\n",
    "            for vid, end_frame in sorted_data:\n",
    "                f.write(f'{vid},{end_frame}\\n')"
   ]
  }
 ],
 "metadata": {
  "kernelspec": {
   "display_name": "base",
   "language": "python",
   "name": "python3"
  },
  "language_info": {
   "codemirror_mode": {
    "name": "ipython",
    "version": 3
   },
   "file_extension": ".py",
   "mimetype": "text/x-python",
   "name": "python",
   "nbconvert_exporter": "python",
   "pygments_lexer": "ipython3",
   "version": "3.9.19"
  }
 },
 "nbformat": 4,
 "nbformat_minor": 2
}
