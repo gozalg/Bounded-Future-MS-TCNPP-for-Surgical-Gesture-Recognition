{
 "cells": [
  {
   "cell_type": "markdown",
   "metadata": {},
   "source": [
    "This notebook calculates the test result $$average\\pm stddev$$ for each dataset"
   ]
  },
  {
   "cell_type": "code",
   "execution_count": 1,
   "metadata": {},
   "outputs": [],
   "source": [
    "# for each dataset dir, open 'test_results.csv', and for each column calculate the mean and std of the values (except the first column)\n",
    "# then print the results in a table\n",
    "import os\n",
    "import csv\n",
    "import numpy as np"
   ]
  },
  {
   "cell_type": "code",
   "execution_count": 2,
   "metadata": {},
   "outputs": [],
   "source": [
    "fe_path = '/data/home/gabrielg/Bounded_Future_from_GIT/output/feature_extractor'\n",
    "fe_model = '2D-EfficientNetV2-m'\n",
    "eval_scheme = 'LOUO'\n",
    "results = {}\n",
    "for dataset in os.listdir(fe_path):\n",
    "    dataset_path = os.path.join(fe_path, dataset, fe_model, eval_scheme)\n",
    "    if os.path.isdir(dataset_path):\n",
    "        results[dataset] = {}\n",
    "        with open(os.path.join(dataset_path, 'test_results.csv')) as f:\n",
    "            reader = csv.reader(f)\n",
    "            header = next(reader)\n",
    "            rows_data = []\n",
    "            for i, col in enumerate(header):\n",
    "                if i == 0:\n",
    "                    num_of_rows = 0\n",
    "                    for row in reader:\n",
    "                        rows_data.append(row)\n",
    "                        num_of_rows += 1\n",
    "                    continue\n",
    "                if col not in results[dataset]:\n",
    "                    results[dataset][col] = []\n",
    "                results[dataset][col].append([])\n",
    "                for row in range(num_of_rows):\n",
    "                    results[dataset][col][-1].append(rows_data[row][i])"
   ]
  },
  {
   "cell_type": "code",
   "execution_count": 3,
   "metadata": {},
   "outputs": [
    {
     "name": "stdout",
     "output_type": "stream",
     "text": [
      "| Dataset | Accuracy | F1-Macro | Edit |  F1@10 | F1@25 | F1@50 |\n",
      "|---|---|---|---|---|---|---|\n",
      "| SAR_RARP50 | $60.4776 \\pm 0.7397$ | $46.2786 \\pm 2.4125$ | $10.3804 \\pm 0.3365$ | $16.1927 \\pm 0.5903$ | $12.3187 \\pm 0.6615$ | $6.5077 \\pm 0.5732$ |\n",
      "| JIGSAWS | $77.0940 \\pm 5.9372$ | $70.1518 \\pm 7.4780$ | $16.8955 \\pm 4.6744$ | $27.3134 \\pm 6.9781$ | $25.7459 \\pm 7.1540$ | $20.4230 \\pm 6.2379$ |\n"
     ]
    }
   ],
   "source": [
    "# Print a Markdown table: for each dataset (row), print the mean and std of each metric (column)\n",
    "print(\"| Dataset | Accuracy | F1-Macro | Edit |  F1@10 | F1@25 | F1@50 |\")\n",
    "print(\"|---|---|---|---|---|---|---|\")\n",
    "for dataset in results:\n",
    "    row_to_print = f'| {dataset} |'\n",
    "    for col in results[dataset]:\n",
    "        for _, values in enumerate(results[dataset][col]):\n",
    "            values = np.array(values, dtype=np.float32)\n",
    "            mean = np.mean(values)\n",
    "            std = np.std(values)\n",
    "            row_to_print += f' ${mean:.4f} \\pm {std:.4f}$ |'\n",
    "    print(row_to_print)"
   ]
  },
  {
   "cell_type": "markdown",
   "metadata": {},
   "source": [
    "| Dataset | Accuracy | F1-Macro | Edit |  F1@10 | F1@25 | F1@50 |\n",
    "|---|---|---|---|---|---|---|\n",
    "| SAR_RARP50 | $60.4776 \\pm 0.7397$ | $46.2786 \\pm 2.4125$ | $10.3804 \\pm 0.3365$ | $16.1927 \\pm 0.5903$ | $12.3187 \\pm 0.6615$ | $6.5077 \\pm 0.5732$ |\n",
    "| JIGSAWS | $77.0940 \\pm 5.9372$ | $70.1518 \\pm 7.4780$ | $16.8955 \\pm 4.6744$ | $27.3134 \\pm 6.9781$ | $25.7459 \\pm 7.1540$ | $20.4230 \\pm 6.2379$ |"
   ]
  }
 ],
 "metadata": {
  "kernelspec": {
   "display_name": "base",
   "language": "python",
   "name": "python3"
  },
  "language_info": {
   "codemirror_mode": {
    "name": "ipython",
    "version": 3
   },
   "file_extension": ".py",
   "mimetype": "text/x-python",
   "name": "python",
   "nbconvert_exporter": "python",
   "pygments_lexer": "ipython3",
   "version": "3.9.19"
  }
 },
 "nbformat": 4,
 "nbformat_minor": 2
}
