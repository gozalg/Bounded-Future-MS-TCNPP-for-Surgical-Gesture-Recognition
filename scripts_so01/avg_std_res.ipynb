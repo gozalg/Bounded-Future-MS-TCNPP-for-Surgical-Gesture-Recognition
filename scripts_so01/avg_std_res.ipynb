{
 "cells": [
  {
   "cell_type": "markdown",
   "metadata": {},
   "source": [
    "This notebook calculates the test result $$average\\pm stddev$$ for each dataset"
   ]
  },
  {
   "cell_type": "code",
   "execution_count": 1,
   "metadata": {},
   "outputs": [],
   "source": [
    "# for each dataset dir, open 'test_results.csv', and for each column calculate the mean and std of the values (except the first column)\n",
    "# then print the results in a table\n",
    "import os\n",
    "import csv\n",
    "import numpy as np"
   ]
  },
  {
   "cell_type": "code",
   "execution_count": 2,
   "metadata": {},
   "outputs": [],
   "source": [
    "fe_path = '/data/home/gabrielg/Bounded_Future_from_GIT/output/feature_extractor'\n",
    "fe_model = '2D-EfficientNetV2-m'\n",
    "eval_scheme = 'LOUO'\n",
    "results = {}\n",
    "for dataset in os.listdir(fe_path):\n",
    "    dataset_path = os.path.join(fe_path, dataset, fe_model, eval_scheme)\n",
    "    for task in os.listdir(dataset_path): \n",
    "        if task in ['Suturing', 'gesture', 'steps', 'phases'] and os.path.isdir(os.path.join(dataset_path, task)):\n",
    "            if 'MultiBypass140'  in dataset:\n",
    "                dataset = dataset.split('_')[0] + f'_{task[0].upper()}'\n",
    "            results[dataset] = {}\n",
    "            results[dataset]['Task'] = task\n",
    "            with open(os.path.join(dataset_path, task, 'test_results.csv')) as f:\n",
    "                reader = csv.reader(f)\n",
    "                header = next(reader)\n",
    "                rows_data = []\n",
    "                for i, col in enumerate(header):\n",
    "                    if i == 0:\n",
    "                        num_of_rows = 0\n",
    "                        for row in reader:\n",
    "                            rows_data.append(row)\n",
    "                            num_of_rows += 1\n",
    "                        continue\n",
    "                    if col not in results[dataset]:\n",
    "                        results[dataset][col] = []\n",
    "                    results[dataset][col].append([])\n",
    "                    for row in range(num_of_rows):\n",
    "                        results[dataset][col][-1].append(rows_data[row][i])"
   ]
  },
  {
   "cell_type": "code",
   "execution_count": 3,
   "metadata": {},
   "outputs": [
    {
     "name": "stdout",
     "output_type": "stream",
     "text": [
      "# **Feature Extractor Results**\n",
      "| Dataset | Task | Accuracy | F1-Macro | Edit |  F1@10 | F1@25 | F1@50 |\n",
      "|---|---|---|---|---|---|---|---|\n",
      "| VTS | _Gesture_ | $82.66 \\pm 6.03$ | $79.46 \\pm 8.10$ | - | - | - | - |\n",
      "| SAR_RARP50 | _Gesture_ | $60.48 \\pm 0.74$ | $46.28 \\pm 2.41$ | $10.38 \\pm 0.34$ | $16.19 \\pm 0.59$ | $12.32 \\pm 0.66$ | $6.51 \\pm 0.57$ |\n",
      "| JIGSAWS | _Gesture_ | $77.09 \\pm 5.94$ | $70.15 \\pm 7.48$ | $16.90 \\pm 4.67$ | $27.31 \\pm 6.98$ | $25.75 \\pm 7.15$ | $20.42 \\pm 6.24$ |\n",
      "| MultiBypass140 | _Steps_ | $68.19 \\pm 1.43$ | $54.60 \\pm 0.67$ | $3.53 \\pm 0.07$ | $5.30 \\pm 0.15$ | $3.63 \\pm 0.17$ | $1.66 \\pm 0.09$ |\n",
      "| MultiBypass140 | _Phases_ | $79.19 \\pm 0.41$ | $66.79 \\pm 0.78$ | $1.56 \\pm 0.08$ | $2.47 \\pm 0.11$ | $1.48 \\pm 0.13$ | $0.49 \\pm 0.06$ |\n"
     ]
    }
   ],
   "source": [
    "# Print a Markdown table: for each dataset (row), print the mean and std of each metric (column)\n",
    "print (\"# **Feature Extractor Results**\")\n",
    "print(\"| Dataset | Task | Accuracy | F1-Macro | Edit |  F1@10 | F1@25 | F1@50 |\")\n",
    "print(\"|---|---|---|---|---|---|---|---|\")\n",
    "print(\"| VTS | _Gesture_ | $82.66 \\pm 6.03$ | $79.46 \\pm 8.10$ | - | - | - | - |\")\n",
    "task_str    = 'Task'\n",
    "task_lst    = ['gesture', 'phases', 'steps']\n",
    "task_dflt   = 'Gesture'\n",
    "for dataset in results:\n",
    "    if 'MultiBypass140'  in dataset:\n",
    "        dataset_name = dataset.split('_')[0]\n",
    "    else:\n",
    "        dataset_name = dataset\n",
    "    row_to_print = f'| {dataset_name} | _{results[dataset][task_str].capitalize() if results[dataset][task_str] in task_lst else task_dflt}_ |'\n",
    "    for col in results[dataset]:\n",
    "        if col == 'Task':\n",
    "            continue\n",
    "        for _, values in enumerate(results[dataset][col]):\n",
    "            values = np.array(values, dtype=np.float32)\n",
    "            mean = np.mean(values)\n",
    "            std = np.std(values)\n",
    "            row_to_print += f' ${mean:.2f} \\pm {std:.2f}$ |'\n",
    "    print(row_to_print)"
   ]
  },
  {
   "cell_type": "markdown",
   "metadata": {},
   "source": [
    "# **Feature Extractor Results**\n",
    "| Dataset | Task | Accuracy | F1-Macro | Edit |  F1@10 | F1@25 | F1@50 |\n",
    "|---|---|---|---|---|---|---|---|\n",
    "| VTS | _Gesture_ | $82.66 \\pm 6.03$ | $79.46 \\pm 8.10$ | - | - | - | - |\n",
    "| SAR_RARP50 | _Gesture_ | $60.48 \\pm 0.74$ | $46.28 \\pm 2.41$ | $10.38 \\pm 0.34$ | $16.19 \\pm 0.59$ | $12.32 \\pm 0.66$ | $6.51 \\pm 0.57$ |\n",
    "| JIGSAWS | _Gesture_ | $77.09 \\pm 5.94$ | $70.15 \\pm 7.48$ | $16.90 \\pm 4.67$ | $27.31 \\pm 6.98$ | $25.75 \\pm 7.15$ | $20.42 \\pm 6.24$ |\n",
    "| MultiBypass140 | _Steps_ | $68.19 \\pm 1.43$ | $54.60 \\pm 0.67$ | $3.53 \\pm 0.07$ | $5.30 \\pm 0.15$ | $3.63 \\pm 0.17$ | $1.66 \\pm 0.09$ |\n",
    "| MultiBypass140 | _Phases_ | $79.19 \\pm 0.41$ | $66.79 \\pm 0.78$ | $1.56 \\pm 0.08$ | $2.47 \\pm 0.11$ | $1.48 \\pm 0.13$ | $0.49 \\pm 0.06$ |"
   ]
  }
 ],
 "metadata": {
  "kernelspec": {
   "display_name": "base",
   "language": "python",
   "name": "python3"
  },
  "language_info": {
   "codemirror_mode": {
    "name": "ipython",
    "version": 3
   },
   "file_extension": ".py",
   "mimetype": "text/x-python",
   "name": "python",
   "nbconvert_exporter": "python",
   "pygments_lexer": "ipython3",
   "version": "3.9.19"
  }
 },
 "nbformat": 4,
 "nbformat_minor": 2
}
